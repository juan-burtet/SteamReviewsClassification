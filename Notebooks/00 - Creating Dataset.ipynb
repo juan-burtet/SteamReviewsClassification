{
 "cells": [
  {
   "cell_type": "markdown",
   "metadata": {},
   "source": [
    "# Creating the Reviews Dataset\n",
    "\n",
    "In this notebook, will be generated the dataset of Steams Reviews. In this example, we will use the language `Brazilian Portuguese` to generate the data, but you can use another (or all languages) by passing the `language` argument in the `download_reviews` function. In this [page](https://partner.steamgames.com/doc/store/localization) you can see every language available."
   ]
  },
  {
   "cell_type": "markdown",
   "metadata": {},
   "source": [
    "## Importing some packages, libs and modules"
   ]
  },
  {
   "cell_type": "code",
   "execution_count": 1,
   "metadata": {},
   "outputs": [],
   "source": [
    "import json, csv, copy, os, requests"
   ]
  },
  {
   "cell_type": "markdown",
   "metadata": {},
   "source": [
    "## Getting all the apps from the Steam"
   ]
  },
  {
   "cell_type": "code",
   "execution_count": 20,
   "metadata": {},
   "outputs": [],
   "source": [
    "apps_url = \"http://api.steampowered.com/ISteamApps/GetAppList/v2\"\n",
    "apps_data = requests.get(url=apps_url, params={'json': 1}).json()"
   ]
  },
  {
   "cell_type": "code",
   "execution_count": 17,
   "metadata": {},
   "outputs": [],
   "source": [
    "def download_batch(response, params):\n",
    "    \n",
    "    # Check if the request don't returned a json\n",
    "    if response is None:\n",
    "        raise ConnectionRefusedError('The request returned null.')\n",
    "\n",
    "    # Check if the request was not successfull.\n",
    "    if 'success' not in response:\n",
    "        raise ConnectionError('The request was not a success.')\n",
    "    \n",
    "    # results from this function\n",
    "    result = {}\n",
    "    \n",
    "    # If the query return at least one review\n",
    "    if response['query_summary']['num_reviews'] > 0:\n",
    "        result['reviews'] = response['reviews']\n",
    "        result['reviews_count'] = response['query_summary']['num_reviews']\n",
    "        result['finished'] = False\n",
    "        \n",
    "        params['cursor'] = response['cursor']\n",
    "    \n",
    "    # No more reviews left\n",
    "    else:\n",
    "        result['finished'] = True\n",
    "    \n",
    "    # add the updated params\n",
    "    result['params'] = params\n",
    "    \n",
    "    # return the information\n",
    "    return result\n",
    "\n",
    "def download_reviews(appid, language='brazilian'):\n",
    "    \n",
    "    # Information to request the reviews from the game\n",
    "    steam_url = 'https://store.steampowered.com/appreviews/'\n",
    "    params = {\n",
    "        'json': 1,\n",
    "        'filter': 'recent', # sort by: recent, update\n",
    "        'language': language, # only reviews in this language\n",
    "        'cursor': '*',\n",
    "        'review_type': 'all', # positive and negative reviews\n",
    "        'purchase_type': 'all', # all, non_steam_purchase, steam\n",
    "        'num_per_page': '100', # 100 is the max number\n",
    "    }\n",
    "    \n",
    "    # response from the request in format json\n",
    "    response = requests.get(url=steam_url+appid, \n",
    "                            params=params).json()\n",
    "    \n",
    "    # If there is no total_reviews, the query returns\n",
    "    # zero reviews from this game\n",
    "    if 'total_reviews' not in response['query_summary']:\n",
    "        return {}\n",
    "    \n",
    "    # Dict with the info to be returned\n",
    "    reviews = {\n",
    "        'reviews': [],\n",
    "        'total_reviews': response['query_summary']['total_reviews'],\n",
    "        \n",
    "    }\n",
    "    \n",
    "    # request all the reviews from this app_id\n",
    "    reviews_count = 0\n",
    "    while True:\n",
    "        \n",
    "        # download a batch of 100 reviews\n",
    "        result = download_batch(response, params)\n",
    "        \n",
    "        # If all the reviews was downloaded, break the loop\n",
    "        if result['finished']:\n",
    "            break\n",
    "        \n",
    "        # update with the results from the batch\n",
    "        params = result['params']\n",
    "        reviews['reviews'] += result['reviews']\n",
    "        reviews_count += result['reviews_count']\n",
    "                \n",
    "        # request with the next reviews\n",
    "        response = requests.get(url=steam_url+appid, \n",
    "                                params=params).json()\n",
    "\n",
    "    # return all the reviews downloaded\n",
    "    return reviews"
   ]
  },
  {
   "cell_type": "code",
   "execution_count": null,
   "metadata": {},
   "outputs": [],
   "source": []
  }
 ],
 "metadata": {
  "kernelspec": {
   "display_name": "Python 3",
   "language": "python",
   "name": "python3"
  },
  "language_info": {
   "codemirror_mode": {
    "name": "ipython",
    "version": 3
   },
   "file_extension": ".py",
   "mimetype": "text/x-python",
   "name": "python",
   "nbconvert_exporter": "python",
   "pygments_lexer": "ipython3",
   "version": "3.7.6"
  }
 },
 "nbformat": 4,
 "nbformat_minor": 4
}
